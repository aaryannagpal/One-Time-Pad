{
 "cells": [
  {
   "cell_type": "markdown",
   "id": "4392e87b",
   "metadata": {},
   "source": [
    "# One Pad Cipher"
   ]
  },
  {
   "cell_type": "markdown",
   "id": "5f68d2ab",
   "metadata": {},
   "source": [
    "## Importing necessary modules"
   ]
  },
  {
   "cell_type": "code",
   "execution_count": 1,
   "id": "20cb409d",
   "metadata": {},
   "outputs": [],
   "source": [
    "import random"
   ]
  },
  {
   "cell_type": "markdown",
   "id": "3ee67c9d",
   "metadata": {},
   "source": [
    "## Assigning an empty variable for key"
   ]
  },
  {
   "cell_type": "code",
   "execution_count": 2,
   "id": "7cfbc162",
   "metadata": {},
   "outputs": [],
   "source": [
    "k = []"
   ]
  },
  {
   "cell_type": "markdown",
   "id": "086c0a40",
   "metadata": {},
   "source": [
    "## Binary Conversion (Applicable on single characters)"
   ]
  },
  {
   "cell_type": "code",
   "execution_count": 3,
   "id": "9561ed61",
   "metadata": {},
   "outputs": [],
   "source": [
    "def text2binary(n):\n",
    "    i = bin(ord(n))[2:]\n",
    "    return i"
   ]
  },
  {
   "cell_type": "code",
   "execution_count": 4,
   "id": "c77a5748",
   "metadata": {},
   "outputs": [
    {
     "data": {
      "text/plain": [
       "'1000001'"
      ]
     },
     "execution_count": 4,
     "metadata": {},
     "output_type": "execute_result"
    }
   ],
   "source": [
    "a = text2binary('A')\n",
    "a"
   ]
  },
  {
   "cell_type": "code",
   "execution_count": 5,
   "id": "024a0c5f",
   "metadata": {},
   "outputs": [],
   "source": [
    "def binary2text(n):\n",
    "    x = int(n,2)\n",
    "    return (chr(x))"
   ]
  },
  {
   "cell_type": "code",
   "execution_count": 6,
   "id": "50f420d8",
   "metadata": {},
   "outputs": [
    {
     "data": {
      "text/plain": [
       "'A'"
      ]
     },
     "execution_count": 6,
     "metadata": {},
     "output_type": "execute_result"
    }
   ],
   "source": [
    "binary2text(a)"
   ]
  },
  {
   "cell_type": "markdown",
   "id": "630b8e78",
   "metadata": {},
   "source": [
    "## Key Generator"
   ]
  },
  {
   "cell_type": "code",
   "execution_count": 7,
   "id": "ad9927f8",
   "metadata": {},
   "outputs": [],
   "source": [
    "def keygen(n):\n",
    "    N = str(n)\n",
    "    a = ''\n",
    "    i = 0\n",
    "    while i < (len(N)):\n",
    "        a+=str(random.randint(0,1))\n",
    "        i+=1\n",
    "    return a"
   ]
  },
  {
   "cell_type": "code",
   "execution_count": 8,
   "id": "87ef0794",
   "metadata": {},
   "outputs": [
    {
     "data": {
      "text/plain": [
       "'01110'"
      ]
     },
     "execution_count": 8,
     "metadata": {},
     "output_type": "execute_result"
    }
   ],
   "source": [
    "keygen(10010)"
   ]
  },
  {
   "cell_type": "markdown",
   "id": "57650336",
   "metadata": {},
   "source": [
    "## XOR Operation"
   ]
  },
  {
   "cell_type": "code",
   "execution_count": 9,
   "id": "86f8ea13",
   "metadata": {},
   "outputs": [],
   "source": [
    "def XOR(n,m):\n",
    "    if len(n)!= len(m):\n",
    "        raise Exception(\"Strings must be of same length\")\n",
    "        \n",
    "    N = [i for i in n]\n",
    "    M = [i for i in m]\n",
    "    X = []\n",
    "    for i in range(len(N)):\n",
    "        if N[i]==M[i]:\n",
    "            X.append('0')\n",
    "        else:\n",
    "            X.append('1')\n",
    "    x = ''.join(X)\n",
    "    return x"
   ]
  },
  {
   "cell_type": "code",
   "execution_count": 10,
   "id": "6dd8b661",
   "metadata": {},
   "outputs": [
    {
     "data": {
      "text/plain": [
       "'0010'"
      ]
     },
     "execution_count": 10,
     "metadata": {},
     "output_type": "execute_result"
    }
   ],
   "source": [
    "XOR('1000','1010')"
   ]
  },
  {
   "cell_type": "markdown",
   "id": "53783c7d",
   "metadata": {},
   "source": [
    "## Encryption"
   ]
  },
  {
   "cell_type": "code",
   "execution_count": 11,
   "id": "d7797b3b",
   "metadata": {},
   "outputs": [],
   "source": [
    "def encrypt(binary_plaintext, key):\n",
    "    cipher = []\n",
    "    for i in range(len(key)):\n",
    "        cipher.append(XOR(binary_plaintext[i],key[i]))\n",
    "    return cipher"
   ]
  },
  {
   "cell_type": "markdown",
   "id": "2554b5c5",
   "metadata": {},
   "source": [
    "## Decryption"
   ]
  },
  {
   "cell_type": "code",
   "execution_count": 12,
   "id": "d38e6372",
   "metadata": {},
   "outputs": [],
   "source": [
    "def decrypt(cipher, key):\n",
    "    binary_plaintext = []\n",
    "    for i in range(len(key)):\n",
    "        binary_plaintext.append(XOR(cipher[i],key[i]))\n",
    "    return binary_plaintext"
   ]
  },
  {
   "cell_type": "markdown",
   "id": "0ced13d6",
   "metadata": {},
   "source": [
    "# Executing"
   ]
  },
  {
   "cell_type": "code",
   "execution_count": 13,
   "id": "3687a8f5",
   "metadata": {},
   "outputs": [],
   "source": [
    "plaintext = 'Hello, my name is aaryan'\n",
    "binary_plaintext = [text2binary(i) for i in plaintext]"
   ]
  },
  {
   "cell_type": "markdown",
   "id": "7e3eeef5",
   "metadata": {},
   "source": [
    "### Generating key"
   ]
  },
  {
   "cell_type": "code",
   "execution_count": 14,
   "id": "59eafc5c",
   "metadata": {},
   "outputs": [],
   "source": [
    "key = [keygen(i) for i in binary_plaintext]"
   ]
  },
  {
   "cell_type": "markdown",
   "id": "0e9b3ebd",
   "metadata": {},
   "source": [
    "##### Checking whether all keys for each binary character are of same length"
   ]
  },
  {
   "cell_type": "code",
   "execution_count": 15,
   "id": "a29b51fd",
   "metadata": {},
   "outputs": [],
   "source": [
    "#for i in range(len(key)):\n",
    "    #a = len(key[i]) == len(binary_plaintext[i])\n",
    "    #print(a,end=' ')"
   ]
  },
  {
   "cell_type": "markdown",
   "id": "a6c77ba6",
   "metadata": {},
   "source": [
    "### Encrypting"
   ]
  },
  {
   "cell_type": "code",
   "execution_count": 16,
   "id": "44ad392b",
   "metadata": {},
   "outputs": [],
   "source": [
    "cipher = encrypt(binary_plaintext,key)"
   ]
  },
  {
   "cell_type": "markdown",
   "id": "4dc81679",
   "metadata": {},
   "source": [
    "### Decrypting"
   ]
  },
  {
   "cell_type": "code",
   "execution_count": 17,
   "id": "06bb26bc",
   "metadata": {},
   "outputs": [],
   "source": [
    "decipher = decrypt(cipher, key)"
   ]
  },
  {
   "cell_type": "markdown",
   "id": "d080e740",
   "metadata": {},
   "source": [
    "##### Checking if result is same as original in binary"
   ]
  },
  {
   "cell_type": "code",
   "execution_count": 18,
   "id": "bbc918b3",
   "metadata": {
    "scrolled": true
   },
   "outputs": [],
   "source": [
    "#binary_plaintext == decipher"
   ]
  },
  {
   "cell_type": "markdown",
   "id": "088595a4",
   "metadata": {},
   "source": [
    "## Result"
   ]
  },
  {
   "cell_type": "code",
   "execution_count": 19,
   "id": "867a7487",
   "metadata": {},
   "outputs": [
    {
     "name": "stdout",
     "output_type": "stream",
     "text": [
      "Hello, my name is aaryan\n"
     ]
    }
   ],
   "source": [
    "list_message = [binary2text(i) for i in decipher]\n",
    "message = ''.join(list_message)\n",
    "print(message)"
   ]
  }
 ],
 "metadata": {
  "kernelspec": {
   "display_name": "Python 3 (ipykernel)",
   "language": "python",
   "name": "python3"
  },
  "language_info": {
   "codemirror_mode": {
    "name": "ipython",
    "version": 3
   },
   "file_extension": ".py",
   "mimetype": "text/x-python",
   "name": "python",
   "nbconvert_exporter": "python",
   "pygments_lexer": "ipython3",
   "version": "3.9.7"
  }
 },
 "nbformat": 4,
 "nbformat_minor": 5
}
